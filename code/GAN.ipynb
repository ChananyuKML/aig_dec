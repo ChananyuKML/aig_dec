{
 "cells": [
  {
   "cell_type": "code",
   "execution_count": 1,
   "metadata": {},
   "outputs": [],
   "source": [
    "import torch\n",
    "import torch.nn as nn\n",
    "import torch.optim as optim\n",
    "from torch.optim import Adam\n",
    "from torch.optim.lr_scheduler import LambdaLR\n",
    "import torchvision\n",
    "import torchvision.transforms as transforms\n",
    "from torchvision.datasets import MNIST\n",
    "from torch.utils.data import DataLoader\n",
    "import numpy as np\n",
    "import matplotlib.pyplot as plt"
   ]
  },
  {
   "cell_type": "code",
   "execution_count": 2,
   "metadata": {},
   "outputs": [
    {
     "name": "stdout",
     "output_type": "stream",
     "text": [
      "Ongoing Device : cuda\n"
     ]
    }
   ],
   "source": [
    "device = torch.device('cuda' if torch.cuda.is_available() else 'cpu')\n",
    "print(f'Ongoing Device : {device}')"
   ]
  },
  {
   "cell_type": "code",
   "execution_count": 3,
   "metadata": {},
   "outputs": [],
   "source": [
    "transform = transforms.Compose([\n",
    "    transforms.ToTensor(),\n",
    "    transforms.Normalize((0.5,), (0.5,))\n",
    "])\n",
    "\n",
    "train_dataset = MNIST(root='./data', train=True, transform=transform, download=True)\n",
    "train_loader = DataLoader(train_dataset, batch_size=64, shuffle=True)"
   ]
  },
  {
   "cell_type": "code",
   "execution_count": 4,
   "metadata": {},
   "outputs": [],
   "source": [
    "class Generator(nn.Module):\n",
    "    def __init__(self,image_dim=784,hidden_dim=256,latent_dim=100):\n",
    "        super(Generator,self).__init__()\n",
    "\n",
    "        self.fc = nn.Sequential(nn.Linear(latent_dim, 256),\n",
    "                                nn.LeakyReLU(0.2),\n",
    "                                nn.Linear(256, 512),\n",
    "                                nn.LeakyReLU(0.2),\n",
    "                                nn.Linear(512, 1024),\n",
    "                                nn.LeakyReLU(0.2),\n",
    "                                nn.Linear(1024, 28*28),\n",
    "                                nn.Tanh()\n",
    "                                )   \n",
    "    def forward(self,x):\n",
    "        return self.fc(x)\n",
    "        \n",
    "\n",
    "        \n",
    "class Discriminator(nn.Module):\n",
    "    def __init__(self,image_dim=784,hidden_dim=256,latent_dim=100):\n",
    "        super(Discriminator,self).__init__()\n",
    "\n",
    "        self.fc = nn.Sequential(nn.Linear(28*28, 1024),\n",
    "                                nn.LeakyReLU(0.2),\n",
    "                                nn.Dropout(0.3),\n",
    "                                nn.Linear(1024, 512),\n",
    "                                nn.LeakyReLU(0.2),\n",
    "                                nn.Dropout(0.3),\n",
    "                                nn.Linear(512, 256),\n",
    "                                nn.LeakyReLU(0.2),\n",
    "                                nn.Dropout(0.3),\n",
    "                                nn.Linear(256, 1),\n",
    "                                nn.Sigmoid()    \n",
    "                                )\n",
    "        \n",
    "    def forward(self,x):\n",
    "        return self.fc(x)"
   ]
  },
  {
   "cell_type": "code",
   "execution_count": 5,
   "metadata": {},
   "outputs": [],
   "source": [
    "G = Generator().to(device)\n",
    "D = Discriminator().to(device)"
   ]
  },
  {
   "cell_type": "code",
   "execution_count": 6,
   "metadata": {},
   "outputs": [],
   "source": [
    "# Loss function\n",
    "criterion = nn.BCELoss()\n",
    "\n",
    "# Optimizers\n",
    "G_optimizer = torch.optim.Adam(G.parameters(), lr=0.0002, betas=(0.5, 0.999))\n",
    "D_optimizer = torch.optim.Adam(D.parameters(), lr=0.0002, betas=(0.5, 0.999))"
   ]
  },
  {
   "cell_type": "code",
   "execution_count": null,
   "metadata": {},
   "outputs": [
    {
     "name": "stdout",
     "output_type": "stream",
     "text": [
      "Ongoing Device : cuda\n",
      "Epoch [1/200], Step [938/938], D_loss: 0.2783, G_loss: 2.6963\n"
     ]
    }
   ],
   "source": [
    "import torch.autograd as autograd\n",
    "\n",
    "# Number of epochs\n",
    "num_epochs = 200\n",
    "latent_dim = 100\n",
    "\n",
    "print(f\"Ongoing Device : {device}\")\n",
    "# Training loop\n",
    "for epoch in range(num_epochs):\n",
    "    for i, (images, _) in enumerate(train_loader):\n",
    "        # Flatten the images for the Discriminator\n",
    "        images = images.view(images.size(0), -1).to(device)\n",
    "\n",
    "        # Real labels are 1, fake labels are 0\n",
    "        real_labels = torch.ones(images.size(0), 1).to(device)\n",
    "        fake_labels = torch.zeros(images.size(0), 1).to(device)\n",
    "\n",
    "        ############################\n",
    "        # Train the Discriminator\n",
    "        ############################\n",
    "        D_optimizer.zero_grad()\n",
    "\n",
    "        # Compute BCELoss using real images\n",
    "        outputs = D(images)\n",
    "        D_loss_real = criterion(outputs, real_labels)\n",
    "        real_score = outputs\n",
    "\n",
    "        # Generate fake images\n",
    "        z = torch.randn(images.size(0), latent_dim).to(device)\n",
    "        fake_images = G(z)\n",
    "\n",
    "        # Compute BCELoss using fake images\n",
    "        outputs = D(fake_images.detach())\n",
    "        D_loss_fake = criterion(outputs, fake_labels)\n",
    "        fake_score = outputs\n",
    "\n",
    "        # Optimize the Discriminator\n",
    "        D_loss = D_loss_real + D_loss_fake\n",
    "        D_loss.backward()\n",
    "        D_optimizer.step()\n",
    "\n",
    "        ############################\n",
    "        # Train the Generator\n",
    "        ############################\n",
    "        G_optimizer.zero_grad()\n",
    "\n",
    "        # Generate fake images\n",
    "        z = torch.randn(images.size(0), latent_dim).to(device)\n",
    "        fake_images = G(z)\n",
    "\n",
    "        # Compute BCELoss using fake images, with reversed labels\n",
    "        outputs = D(fake_images)\n",
    "        G_loss = criterion(outputs, real_labels)\n",
    "\n",
    "        # Optimize the Generator\n",
    "        G_loss.backward()\n",
    "        G_optimizer.step()\n",
    "\n",
    "    print('Epoch [{}/{}], Step [{}/{}], D_loss: {:.4f}, G_loss: {:.4f}'\n",
    "        .format(epoch+1, num_epochs, i+1, len(train_loader), D_loss.item(), G_loss.item()))\n",
    "    \n",
    "    if epoch % 50 == 0:\n",
    "            torch.save(G.state_dict(), f'checkpoints/GAN/ckpt_{epoch}.pth')"
   ]
  },
  {
   "cell_type": "code",
   "execution_count": null,
   "metadata": {},
   "outputs": [],
   "source": []
  },
  {
   "cell_type": "code",
   "execution_count": null,
   "metadata": {},
   "outputs": [],
   "source": []
  },
  {
   "cell_type": "code",
   "execution_count": null,
   "metadata": {},
   "outputs": [],
   "source": []
  },
  {
   "cell_type": "code",
   "execution_count": null,
   "metadata": {},
   "outputs": [],
   "source": []
  }
 ],
 "metadata": {
  "kernelspec": {
   "display_name": "myenv",
   "language": "python",
   "name": "python3"
  },
  "language_info": {
   "codemirror_mode": {
    "name": "ipython",
    "version": 3
   },
   "file_extension": ".py",
   "mimetype": "text/x-python",
   "name": "python",
   "nbconvert_exporter": "python",
   "pygments_lexer": "ipython3",
   "version": "3.11.9"
  }
 },
 "nbformat": 4,
 "nbformat_minor": 2
}
