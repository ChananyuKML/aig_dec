{
 "cells": [
  {
   "cell_type": "code",
   "execution_count": 1,
   "id": "d9d1c479",
   "metadata": {},
   "outputs": [],
   "source": [
    "import torch"
   ]
  },
  {
   "cell_type": "code",
   "execution_count": 2,
   "id": "f0ec07e4",
   "metadata": {},
   "outputs": [
    {
     "name": "stdout",
     "output_type": "stream",
     "text": [
      "tensor([[-0.4632,  1.2385, -0.3453],\n",
      "        [ 1.1647,  1.3504, -0.5804],\n",
      "        [-0.0327,  0.5075, -0.4838],\n",
      "        [-0.0020, -0.5039,  0.3771]])\n"
     ]
    }
   ],
   "source": [
    "x = torch.randn(4, 3)\n",
    "print(x)"
   ]
  },
  {
   "cell_type": "code",
   "execution_count": 3,
   "id": "984ca546",
   "metadata": {},
   "outputs": [],
   "source": [
    "e_out = torch.tensor([[2.33, -2.80, -2.00],\n",
    "                    [2.82, 0.69, -0.37],\n",
    "                    [0.30, 0.79, -0.45],\n",
    "                    [3.13, -0.60, -0.14]])"
   ]
  },
  {
   "cell_type": "code",
   "execution_count": 5,
   "id": "62be403b",
   "metadata": {},
   "outputs": [
    {
     "name": "stdout",
     "output_type": "stream",
     "text": [
      "tensor([[0.8651, 0.0000, 0.1349],\n",
      "        [0.9477, 0.5885, 0.4098],\n",
      "        [0.5228, 0.6054, 0.3963],\n",
      "        [1.0000, 0.3710, 0.4486]])\n"
     ]
    }
   ],
   "source": [
    "x_min = e_out.min()\n",
    "x_max = e_out.max()\n",
    "normalized = (e_out - x_min) / (x_max-x_min)\n",
    "print(normalized)"
   ]
  },
  {
   "cell_type": "code",
   "execution_count": null,
   "id": "8d5b9a88",
   "metadata": {},
   "outputs": [],
   "source": []
  }
 ],
 "metadata": {
  "kernelspec": {
   "display_name": ".venv",
   "language": "python",
   "name": "python3"
  },
  "language_info": {
   "codemirror_mode": {
    "name": "ipython",
    "version": 3
   },
   "file_extension": ".py",
   "mimetype": "text/x-python",
   "name": "python",
   "nbconvert_exporter": "python",
   "pygments_lexer": "ipython3",
   "version": "3.12.3"
  }
 },
 "nbformat": 4,
 "nbformat_minor": 5
}
